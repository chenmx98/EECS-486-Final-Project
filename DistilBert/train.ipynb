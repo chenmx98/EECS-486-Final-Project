{
 "cells": [
  {
   "cell_type": "code",
   "execution_count": 1,
   "metadata": {},
   "outputs": [
    {
     "name": "stderr",
     "output_type": "stream",
     "text": [
      "/mnt/c/Users/CYH/Desktop/Umich School Work (6th term)/EECS 486/Project/env/lib/python3.8/site-packages/tqdm/auto.py:22: TqdmWarning: IProgress not found. Please update jupyter and ipywidgets. See https://ipywidgets.readthedocs.io/en/stable/user_install.html\n",
      "  from .autonotebook import tqdm as notebook_tqdm\n",
      "2022-04-13 23:13:16.771989: W tensorflow/stream_executor/platform/default/dso_loader.cc:64] Could not load dynamic library 'libcudart.so.11.0'; dlerror: libcudart.so.11.0: cannot open shared object file: No such file or directory\n",
      "2022-04-13 23:13:16.772119: I tensorflow/stream_executor/cuda/cudart_stub.cc:29] Ignore above cudart dlerror if you do not have a GPU set up on your machine.\n"
     ]
    }
   ],
   "source": [
    "import torch\n",
    "import numpy as np\n",
    "import pandas as pd\n",
    "from transformers import DistilBertTokenizer, DistilBertModel, DistilBertConfig\n",
    "from torch import nn\n",
    "from torch.optim import Adam\n",
    "from tqdm import tqdm"
   ]
  },
  {
   "cell_type": "code",
   "execution_count": 9,
   "metadata": {},
   "outputs": [],
   "source": [
    "tokenizer = DistilBertTokenizer.from_pretrained('distilbert-base-uncased')\n",
    "labels = {'Democrat': 0,'Republic': 1}\n",
    "\n",
    "class Dataset(torch.utils.data.Dataset):\n",
    "  def __init__(self, df):\n",
    "    self.labels = []\n",
    "    self.texts = []\n",
    "\n",
    "    # get labels and texts\n",
    "    self.labels = [labels[label] for label in df.iloc[:,0]]\n",
    "    self.texts = [tokenizer(text, padding='max_length', max_length = 512, truncation=True,\n",
    "                              return_tensors=\"pt\") for text in df.iloc[:,1]]\n",
    "      \n",
    "\n",
    "  def classes(self):\n",
    "    return self.labels\n",
    "\n",
    "  def __len__(self):\n",
    "    return len(self.labels)\n",
    "\n",
    "  def get_batch_labels(self, idx):\n",
    "    # Fetch a batch of labels\n",
    "    return np.array(self.labels[idx])\n",
    "\n",
    "  def get_batch_texts(self, idx):\n",
    "    # Fetch a batch of inputs\n",
    "    return self.texts[idx]\n",
    "\n",
    "  def __getitem__(self, idx):\n",
    "    batch_texts = self.get_batch_texts(idx)\n",
    "    batch_y = self.get_batch_labels(idx)\n",
    "\n",
    "    return batch_texts, batch_y"
   ]
  },
  {
   "cell_type": "code",
   "execution_count": 4,
   "metadata": {},
   "outputs": [],
   "source": [
    "class DistillBertClassifier(nn.Module):\n",
    "  def __init__(self, dropout=0.5):\n",
    "    super().__init__()\n",
    "    config = DistilBertConfig(dropout=0.5, attention_dropout=0.5, output_hidden_states=True)\n",
    "    self.bert = DistilBertModel.from_pretrained('distilbert-base-uncased', config=config)\n",
    "    self.dropout = nn.Dropout(dropout)\n",
    "    self.linear = nn.Linear(768, 2)\n",
    "    self.relu = nn.ReLU()\n",
    "\n",
    "  def forward(self, input_id, mask):\n",
    "    pooled_output = self.bert(input_ids = input_id, attention_mask=mask, return_dict=False)\n",
    "    dropout_output = self.dropout(pooled_output[0])\n",
    "    linear_output = self.linear(dropout_output)\n",
    "    final_layer = self.relu(linear_output)\n",
    "    result = final_layer.view(1, 1024)\n",
    "\n",
    "    return result"
   ]
  },
  {
   "cell_type": "code",
   "execution_count": 10,
   "metadata": {},
   "outputs": [],
   "source": [
    "EPOCHS = 5\n",
    "LR = 1e-6\n",
    "\n",
    "np.random.seed(112)\n",
    "df = pd.read_csv('party_transcript.csv')\n",
    "# df = df.drop(columns=['Handle'])\n",
    "# df = df.sample(n=3000, random_state=2)\n",
    "dataset = Dataset(df)\n",
    "\n",
    "df_train, df_val, df_test = np.split(df.sample(frac=1, random_state=42), [int(.8*len(df)), int(.9*len(df))])"
   ]
  },
  {
   "cell_type": "code",
   "execution_count": 11,
   "metadata": {},
   "outputs": [
    {
     "name": "stderr",
     "output_type": "stream",
     "text": [
      "Some weights of the model checkpoint at distilbert-base-uncased were not used when initializing DistilBertModel: ['vocab_transform.weight', 'vocab_layer_norm.weight', 'vocab_projector.weight', 'vocab_layer_norm.bias', 'vocab_projector.bias', 'vocab_transform.bias']\n",
      "- This IS expected if you are initializing DistilBertModel from the checkpoint of a model trained on another task or with another architecture (e.g. initializing a BertForSequenceClassification model from a BertForPreTraining model).\n",
      "- This IS NOT expected if you are initializing DistilBertModel from the checkpoint of a model that you expect to be exactly identical (initializing a BertForSequenceClassification model from a BertForSequenceClassification model).\n"
     ]
    }
   ],
   "source": [
    "model = DistillBertClassifier()"
   ]
  },
  {
   "cell_type": "code",
   "execution_count": 12,
   "metadata": {},
   "outputs": [],
   "source": [
    "def train(model, train_data, val_data, learning_rate, epochs):\n",
    "\n",
    "    train, val = Dataset(train_data), Dataset(val_data)\n",
    "\n",
    "    train_dataloader = torch.utils.data.DataLoader(train, batch_size=1, shuffle=True)\n",
    "    val_dataloader = torch.utils.data.DataLoader(val, batch_size=1)\n",
    "\n",
    "    use_cuda = torch.cuda.is_available()\n",
    "    device = torch.device(\"cuda\" if use_cuda else \"cpu\")\n",
    "\n",
    "    criterion = nn.CrossEntropyLoss()\n",
    "    optimizer = Adam(model.parameters(), lr= learning_rate)\n",
    "\n",
    "    if use_cuda:\n",
    "      model = model.cuda()\n",
    "      criterion = criterion.cuda()\n",
    "\n",
    "    for epoch_num in range(epochs):\n",
    "\n",
    "      total_acc_train = 0\n",
    "      total_loss_train = 0\n",
    "\n",
    "      for train_input, train_label in tqdm(train_dataloader):\n",
    "\n",
    "        train_label = train_label.to(device)\n",
    "        mask = train_input['attention_mask'].to(device)\n",
    "        input_id = train_input['input_ids'].squeeze(1).to(device)\n",
    "\n",
    "        output = model(input_id, mask)\n",
    "        batch_loss = criterion(output, train_label)\n",
    "        total_loss_train += batch_loss.item()\n",
    "        \n",
    "        acc = (output.argmax(dim=1) == train_label).sum().item()\n",
    "        total_acc_train += acc\n",
    "\n",
    "        model.zero_grad()\n",
    "        batch_loss.backward()\n",
    "        optimizer.step()\n",
    "            \n",
    "      total_acc_val = 0\n",
    "      total_loss_val = 0\n",
    "\n",
    "      with torch.no_grad():\n",
    "        for val_input, val_label in val_dataloader:\n",
    "          val_label = val_label.to(device)\n",
    "          mask = val_input['attention_mask'].to(device)\n",
    "          input_id = val_input['input_ids'].squeeze(1).to(device)\n",
    "\n",
    "          output = model(input_id, mask)\n",
    "\n",
    "          batch_loss = criterion(output, val_label)\n",
    "          total_loss_val += batch_loss.item()\n",
    "          \n",
    "          acc = (output.argmax(dim=1) == val_label).sum().item()\n",
    "          total_acc_val += acc\n",
    "      \n",
    "      print(\n",
    "          f'Epochs: {epoch_num + 1} | Train Loss: {total_loss_train / len(train_data): .3f} \\\n",
    "          | Train Accuracy: {total_acc_train / len(train_data): .3f} \\\n",
    "          | Val Loss: {total_loss_val / len(val_data): .3f} \\\n",
    "          | Val Accuracy: {total_acc_val / len(val_data): .3f}')"
   ]
  },
  {
   "cell_type": "code",
   "execution_count": 13,
   "metadata": {},
   "outputs": [],
   "source": [
    "def evaluate(model, test_data):\n",
    "\n",
    "    test = Dataset(test_data)\n",
    "\n",
    "    test_dataloader = torch.utils.data.DataLoader(test, batch_size=1)\n",
    "\n",
    "    use_cuda = torch.cuda.is_available()\n",
    "    device = torch.device(\"cuda\" if use_cuda else \"cpu\")\n",
    "\n",
    "    if use_cuda:\n",
    "\n",
    "        model = model.cuda()\n",
    "\n",
    "    total_acc_test = 0\n",
    "    with torch.no_grad():\n",
    "\n",
    "        for test_input, test_label in test_dataloader:\n",
    "\n",
    "            test_label = test_label.to(device)\n",
    "            mask = test_input['attention_mask'].to(device)\n",
    "            input_id = test_input['input_ids'].squeeze(1).to(device)\n",
    "\n",
    "            output = model(input_id, mask)\n",
    "\n",
    "            acc = (output.argmax(dim=1) == test_label).sum().item()\n",
    "            total_acc_test += acc\n",
    "  \n",
    "    print(f'Test Accuracy: {total_acc_test / len(test_data): .3f}')"
   ]
  },
  {
   "cell_type": "code",
   "execution_count": null,
   "metadata": {},
   "outputs": [],
   "source": [
    "train(model, df_train, df_val, LR, EPOCHS)"
   ]
  },
  {
   "cell_type": "code",
   "execution_count": null,
   "metadata": {},
   "outputs": [],
   "source": [
    "evaluate(model, df_test)\n",
    "torch.save(model.state_dict(), \"./model_state\")"
   ]
  },
  {
   "cell_type": "code",
   "execution_count": 23,
   "metadata": {},
   "outputs": [
    {
     "name": "stderr",
     "output_type": "stream",
     "text": [
      "Some weights of the model checkpoint at distilbert-base-uncased were not used when initializing DistilBertModel: ['vocab_layer_norm.weight', 'vocab_transform.weight', 'vocab_layer_norm.bias', 'vocab_projector.bias', 'vocab_transform.bias', 'vocab_projector.weight']\n",
      "- This IS expected if you are initializing DistilBertModel from the checkpoint of a model trained on another task or with another architecture (e.g. initializing a BertForSequenceClassification model from a BertForPreTraining model).\n",
      "- This IS NOT expected if you are initializing DistilBertModel from the checkpoint of a model that you expect to be exactly identical (initializing a BertForSequenceClassification model from a BertForSequenceClassification model).\n"
     ]
    },
    {
     "name": "stdout",
     "output_type": "stream",
     "text": [
      "Test Accuracy:  0.547\n"
     ]
    }
   ],
   "source": [
    "# test on our own data\n",
    "model = DistillBertClassifier()\n",
    "model.load_state_dict(torch.load('./model_state', map_location=torch.device('cpu')))\n",
    "evaluate(model, df_test)"
   ]
  },
  {
   "cell_type": "code",
   "execution_count": 64,
   "metadata": {},
   "outputs": [],
   "source": [
    "df = pd.read_csv('sentence_fip.csv')\n",
    "texts = df.iloc[:, 1]\n",
    "texts = [tokenizer(text, padding='max_length', max_length = 512, truncation=True, return_tensors=\"pt\") for text in texts]\n",
    "test_dataloader = torch.utils.data.DataLoader(texts, batch_size=1)"
   ]
  },
  {
   "cell_type": "code",
   "execution_count": null,
   "metadata": {},
   "outputs": [],
   "source": [
    "import csv\n",
    "\n",
    "labels = {0:1, 1:0}\n",
    "\n",
    "with torch.no_grad():\n",
    "    line = 0\n",
    "    f = open('./prediction', 'w')\n",
    "    writer = csv.writer(f)\n",
    "    writer.writerow(['FIPS', 'Pred'])\n",
    "    for test_input in test_dataloader:\n",
    "        mask = test_input['attention_mask'].to(\"cuda\")\n",
    "        input_id = test_input['input_ids'].squeeze(1).to(\"cuda\")\n",
    "        predict = model(input_id, mask).argmax(dim=1)\n",
    "        writer.writerow([df.iloc[line, 0], labels[int(predict)]])\n",
    "        line += 1\n",
    "    f.close()"
   ]
  }
 ],
 "metadata": {
  "interpreter": {
   "hash": "3db2288e98196be21a59bf04737762dd864221bfaad2462e7e1bba47a8baf480"
  },
  "kernelspec": {
   "display_name": "Python 3.8.10 ('env': venv)",
   "language": "python",
   "name": "python3"
  },
  "language_info": {
   "codemirror_mode": {
    "name": "ipython",
    "version": 3
   },
   "file_extension": ".py",
   "mimetype": "text/x-python",
   "name": "python",
   "nbconvert_exporter": "python",
   "pygments_lexer": "ipython3",
   "version": "3.8.10"
  },
  "orig_nbformat": 4
 },
 "nbformat": 4,
 "nbformat_minor": 2
}
